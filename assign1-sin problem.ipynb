{
 "cells": [
  {
   "cell_type": "code",
   "execution_count": 23,
   "metadata": {},
   "outputs": [],
   "source": [
    "import numpy as np\n",
    "import math\n",
    "from pprint import pprint\n",
    "import matplotlib.pyplot as plt \n",
    "from annfuncs import *"
   ]
  },
  {
   "cell_type": "code",
   "execution_count": 24,
   "metadata": {},
   "outputs": [
    {
     "data": {
      "image/png": "[encoded data removed]",
      "text/plain": [
       "<Figure size 432x288 with 4 Axes>"
      ]
     },
     "metadata": {
      "needs_background": "light"
     },
     "output_type": "display_data"
    }
   ],
   "source": [
    "#creating sin data\n",
    "import random\n",
    "inputvals=[]\n",
    "outputvals=[]\n",
    "\n",
    "for i in range(0,4):\n",
    "    for j in range(0,250):\n",
    "        x=random.uniform(-2*math.pi + i*math.pi,-1*math.pi+i*math.pi)\n",
    "        inputvals.append(x)\n",
    "        y=math.sin(x)\n",
    "        outputvals.append(y)\n",
    "    plt.subplot(4,1,i+1)\n",
    "    plt.scatter(inputvals,outputvals) \n",
    "\n"
   ]
  },
  {
   "cell_type": "code",
   "execution_count": 25,
   "metadata": {},
   "outputs": [],
   "source": [
    "# test values\n",
    "test=[]\n",
    "for j in range(0,300):\n",
    "        test.append(random.uniform(-2*math.pi,2*math.pi))\n",
    "        "
   ]
  },
  {
   "cell_type": "code",
   "execution_count": 26,
   "metadata": {},
   "outputs": [],
   "source": [
    "# layers_dims = [1,275,175,50,1] #  4-layer \n",
    "# layers_dims = [1,80,40,20,1] #  4-layer model\n",
    "layers_dims = [1,20,20,1] #  4-layer model\n",
    "\n",
    "train_x=np.array(inputvals).reshape(1,1000)\n",
    "train_y=np.array(outputvals).reshape(1,1000)"
   ]
  },
  {
   "cell_type": "code",
   "execution_count": 27,
   "metadata": {},
   "outputs": [
    {
     "data": {
      "text/plain": [
       "(1, 1000)"
      ]
     },
     "execution_count": 27,
     "metadata": {},
     "output_type": "execute_result"
    }
   ],
   "source": [
    "train_y.shape"
   ]
  },
  {
   "cell_type": "code",
   "execution_count": null,
   "metadata": {},
   "outputs": [],
   "source": []
  },
  {
   "cell_type": "code",
   "execution_count": 38,
   "metadata": {},
   "outputs": [
    {
     "name": "stdout",
     "output_type": "stream",
     "text": [
      "Cost after epoch 0: 0.168842\n",
      "Cost after epoch 1: 0.066178\n",
      "Cost after epoch 2: 0.038011\n",
      "Cost after epoch 3: 0.031182\n",
      "Cost after epoch 4: 0.029034\n",
      "Cost after epoch 5: 0.029414\n",
      "Cost after epoch 6: 0.032196\n",
      "Cost after epoch 7: 0.029295\n",
      "Cost after epoch 8: 0.029313\n",
      "Cost after epoch 9: 0.030448\n",
      "Cost after epoch 10: 0.030795\n",
      "Cost after epoch 11: 0.030768\n",
      "Cost after epoch 12: 0.030807\n",
      "Cost after epoch 13: 0.029615\n",
      "Cost after epoch 14: 0.031128\n",
      "Cost after epoch 15: 0.028037\n",
      "Cost after epoch 16: 0.029534\n",
      "Cost after epoch 17: 0.028084\n",
      "Cost after epoch 18: 0.029268\n",
      "Cost after epoch 19: 0.028341\n",
      "Cost after epoch 20: 0.031191\n",
      "Cost after epoch 21: 0.028070\n",
      "Cost after epoch 22: 0.028221\n",
      "Cost after epoch 23: 0.028542\n",
      "Cost after epoch 24: 0.028778\n",
      "Cost after epoch 25: 0.027875\n",
      "Cost after epoch 26: 0.029769\n",
      "Cost after epoch 27: 0.028306\n",
      "Cost after epoch 28: 0.027352\n",
      "Cost after epoch 29: 0.028813\n",
      "Cost after epoch 30: 0.029023\n",
      "Cost after epoch 31: 0.027087\n",
      "Cost after epoch 32: 0.026751\n",
      "Cost after epoch 33: 0.026162\n",
      "Cost after epoch 34: 0.025902\n",
      "Cost after epoch 35: 0.027456\n",
      "Cost after epoch 36: 0.027075\n",
      "Cost after epoch 37: 0.025483\n",
      "Cost after epoch 38: 0.027461\n",
      "Cost after epoch 39: 0.023380\n",
      "Cost after epoch 40: 0.027309\n",
      "Cost after epoch 41: 0.023664\n",
      "Cost after epoch 42: 0.022292\n",
      "Cost after epoch 43: 0.020374\n",
      "Cost after epoch 44: 0.020158\n",
      "Cost after epoch 45: 0.017824\n",
      "Cost after epoch 46: 0.016163\n",
      "Cost after epoch 47: 0.015369\n",
      "Cost after epoch 48: 0.013732\n",
      "Cost after epoch 49: 0.013170\n",
      "Cost after epoch 50: 0.013213\n",
      "Cost after epoch 51: 0.011065\n",
      "Cost after epoch 52: 0.011216\n",
      "Cost after epoch 53: 0.010096\n",
      "Cost after epoch 54: 0.008685\n",
      "Cost after epoch 55: 0.009559\n",
      "Cost after epoch 56: 0.008683\n",
      "Cost after epoch 57: 0.007733\n",
      "Cost after epoch 58: 0.008635\n",
      "Cost after epoch 59: 0.008765\n",
      "Cost after epoch 60: 0.006321\n",
      "Cost after epoch 61: 0.006017\n",
      "Cost after epoch 62: 0.007139\n",
      "Cost after epoch 63: 0.012302\n",
      "Cost after epoch 64: 0.005915\n",
      "Cost after epoch 65: 0.005882\n",
      "Cost after epoch 66: 0.005051\n",
      "Cost after epoch 67: 0.005943\n",
      "Cost after epoch 68: 0.004986\n",
      "Cost after epoch 69: 0.005101\n",
      "Cost after epoch 70: 0.004470\n",
      "Cost after epoch 71: 0.007048\n",
      "Cost after epoch 72: 0.005806\n",
      "Cost after epoch 73: 0.003276\n",
      "Cost after epoch 74: 0.003952\n",
      "Cost after epoch 75: 0.004848\n",
      "Cost after epoch 76: 0.004564\n",
      "Cost after epoch 77: 0.006289\n",
      "Cost after epoch 78: 0.003989\n",
      "Cost after epoch 79: 0.004342\n",
      "Cost after epoch 80: 0.005132\n",
      "Cost after epoch 81: 0.003092\n",
      "Cost after epoch 82: 0.004118\n",
      "Cost after epoch 83: 0.003182\n",
      "Cost after epoch 84: 0.003166\n",
      "Cost after epoch 85: 0.004214\n",
      "Cost after epoch 86: 0.003927\n",
      "Cost after epoch 87: 0.003393\n",
      "Cost after epoch 88: 0.002687\n",
      "Cost after epoch 89: 0.002763\n",
      "Cost after epoch 90: 0.003661\n",
      "Cost after epoch 91: 0.002780\n",
      "Cost after epoch 92: 0.004323\n",
      "Cost after epoch 93: 0.002340\n",
      "Cost after epoch 94: 0.004885\n",
      "Cost after epoch 95: 0.002538\n",
      "Cost after epoch 96: 0.002991\n",
      "Cost after epoch 97: 0.003100\n",
      "Cost after epoch 98: 0.002733\n",
      "Cost after epoch 99: 0.002962\n"
     ]
    },
    {
     "data": {
      "image/png": "[encoded data removed]",
      "text/plain": [
       "<Figure size 432x288 with 1 Axes>"
      ]
     },
     "metadata": {
      "needs_background": "light"
     },
     "output_type": "display_data"
    }
   ],
   "source": [
    "# parameters = L_layer_model(train_x, train_y, layers_dims, num_iterations = 5000,learning_rate = 0.001, print_cost = True,\n",
    "#                            lambd=0.1,optimizer=\"adam\", beta = 0.9,beta1 = 0.9, beta2 = 0.999,  epsilon = 1e-8,activation='tanh',\n",
    "#                           regularisation='L2')\n",
    "\n",
    "parameters = L_layer_model_minib(train_x, train_y, layers_dims, valid=False, num_iterations = 100,learning_rate = 0.001, \n",
    "                            print_cost = True,lambd=0.1,optimizer=\"adam\", beta = 0.9,beta1 = 0.9, beta2 = 0.999,epsilon = 1e-8,\n",
    "                            activation='tanh',regularisation='none',mini_batch_size=1,cost_func=\"mse\",he_init=True)"
   ]
  },
  {
   "cell_type": "code",
   "execution_count": 39,
   "metadata": {},
   "outputs": [],
   "source": [
    "pred_train = predictvals(train_x, parameters,activation='tanh')\n",
    "# cost=predictacc(train_x,train_y,parameters)"
   ]
  },
  {
   "cell_type": "code",
   "execution_count": 40,
   "metadata": {},
   "outputs": [
    {
     "name": "stdout",
     "output_type": "stream",
     "text": [
      "array([[ 4.05821953e-01,  6.46893692e-01,  9.03503354e-01,\n",
      "         7.97043214e-01,  8.23378897e-01,  9.21378198e-01,\n",
      "         9.18554449e-01,  9.35435614e-01,  9.18925371e-01,\n",
      "         2.16502645e-01,  8.98296639e-01,  9.14760161e-01,\n",
      "         6.05997649e-01,  6.64467233e-01,  2.57262441e-01,\n",
      "        -2.04049562e-02,  7.88627661e-01,  9.36775243e-01,\n",
      "         4.74573148e-01,  6.86428767e-01,  6.49166596e-01,\n",
      "         2.18526428e-01,  8.98423368e-01,  1.31172983e-01,\n",
      "         7.29506747e-01,  7.11137417e-01,  2.93178457e-01,\n",
      "         8.27384052e-01,  5.89166979e-02,  8.65250460e-01,\n",
      "         3.87348388e-01,  9.23088913e-01,  9.41919420e-01,\n",
      "         6.07174432e-01,  8.87075077e-01,  9.35369684e-01,\n",
      "         9.13499277e-01,  3.79441046e-01,  6.82628777e-01,\n",
      "         7.39549833e-01,  4.60766736e-01,  8.66039379e-01,\n",
      "         7.66306653e-01,  9.24415944e-01,  6.63004576e-01,\n",
      "         6.00225608e-01,  6.30240427e-01,  4.80003431e-01,\n",
      "         8.16915348e-02,  7.41731624e-01,  5.60399320e-01,\n",
      "         7.48679781e-01,  4.75527135e-01,  6.68807314e-01,\n",
      "         8.18351165e-01,  3.54594061e-01,  3.00848952e-01,\n",
      "         7.57760159e-01,  9.40188616e-01,  6.30233613e-01,\n",
      "         9.41922574e-01,  2.48544633e-01,  8.51998204e-01,\n",
      "         5.56172944e-02,  8.77508663e-01,  4.37861159e-02,\n",
      "         7.66595541e-01,  4.89299939e-01,  7.16698040e-01,\n",
      "         9.05870621e-01,  9.79615190e-02,  9.41372673e-01,\n",
      "         1.26847551e-01,  5.49580396e-02,  5.76489882e-01,\n",
      "         8.50565867e-01,  9.12437530e-01,  9.12598419e-01,\n",
      "         5.74576967e-01,  7.39149859e-01,  5.04576788e-01,\n",
      "         9.18923489e-01,  5.68084428e-01,  7.60117636e-01,\n",
      "         9.27959419e-01,  9.21370843e-01,  7.46311792e-01,\n",
      "         7.84806297e-01,  3.15186557e-01,  8.16774650e-01,\n",
      "         2.63221864e-01,  4.29683515e-01,  4.57241894e-01,\n",
      "         9.00242241e-01,  8.97128336e-01,  1.74977448e-01,\n",
      "         7.54620978e-01,  6.33692730e-01,  6.39327954e-01,\n",
      "         9.27259538e-01,  9.37538240e-01,  5.95245752e-01,\n",
      "         8.82193451e-01,  9.03474127e-02,  4.79101070e-01,\n",
      "         1.65759206e-01,  9.42727712e-01,  1.51797882e-01,\n",
      "         7.14749077e-01,  8.27383252e-01,  4.06912457e-01,\n",
      "         9.42854576e-01,  7.69318799e-01,  8.34965505e-01,\n",
      "         7.44451702e-01,  6.97500941e-02,  6.00854444e-01,\n",
      "         6.91465631e-01,  4.96970581e-01,  9.32166877e-01,\n",
      "         8.09056185e-01,  8.67329836e-01,  9.38965886e-01,\n",
      "         8.51609758e-01,  3.06405062e-01,  8.64446254e-01,\n",
      "         8.81562818e-01,  6.66423278e-01,  5.98960340e-01,\n",
      "         7.93681784e-01,  3.89634807e-01,  3.03482664e-01,\n",
      "         8.88785624e-01,  3.34175339e-01,  4.21102192e-01,\n",
      "         6.94331431e-01,  9.41425405e-01,  8.20101781e-01,\n",
      "         7.82421225e-01,  6.02815157e-01,  9.36409176e-01,\n",
      "         1.95426496e-01,  6.53916592e-01,  9.30433228e-01,\n",
      "         9.17001021e-01,  6.04120023e-01,  8.77266709e-01,\n",
      "         1.13188286e-01,  8.66469431e-01, -2.91830836e-04,\n",
      "         8.84652940e-01,  4.31391917e-01,  4.24194929e-01,\n",
      "         8.22256257e-01,  8.48615407e-01,  9.37631235e-01,\n",
      "         4.61336465e-01,  3.49176997e-01,  2.32225348e-01,\n",
      "         8.27322580e-01,  1.09623389e-01,  1.85031306e-01,\n",
      "         8.63428508e-01,  9.34835925e-01,  2.62977007e-02,\n",
      "         4.59489186e-01,  6.09205475e-01, -2.07325105e-05,\n",
      "         8.96398776e-01,  7.95052615e-01,  6.44218857e-01,\n",
      "         7.75339967e-02,  3.34140196e-01,  6.70511738e-01,\n",
      "         8.91783017e-01,  9.00612718e-01,  5.63260204e-01,\n",
      "         1.06979200e-01,  8.91028665e-01,  4.66944806e-01,\n",
      "         3.70035139e-01,  3.59642544e-01,  3.13598901e-01,\n",
      "         7.09513304e-01,  5.77544119e-02,  8.73468344e-01,\n",
      "         1.27143238e-01,  9.08865278e-01,  6.76085387e-01,\n",
      "         8.40194467e-01,  8.34273234e-01,  9.42714214e-01,\n",
      "         9.26649690e-01,  4.83588532e-01,  1.03567959e-01,\n",
      "         8.84987520e-01,  7.69168423e-01,  5.60968417e-01,\n",
      "         9.40308047e-01,  6.14301422e-01,  8.93720662e-01,\n",
      "         2.51795099e-01,  3.53750343e-01,  4.85888271e-01,\n",
      "         2.69389892e-01,  2.58350670e-01,  7.09501814e-01,\n",
      "         8.73490346e-01,  2.00989397e-01,  9.35605200e-01,\n",
      "         4.08411448e-01,  8.05445762e-01,  3.36568143e-01,\n",
      "         1.67764959e-01,  3.53245897e-02,  9.13945035e-01,\n",
      "         7.85124451e-01,  5.92692407e-01,  1.61496065e-01,\n",
      "         9.36465564e-01,  9.04250027e-01, -4.21967015e-02,\n",
      "         9.37410355e-01, -1.60456997e-03,  2.90006491e-01,\n",
      "         6.71350188e-01,  6.67467054e-01,  5.28640425e-01,\n",
      "         8.65764622e-01,  3.14964916e-01,  2.52506694e-01,\n",
      "         6.55465049e-01,  7.20437583e-01,  8.74234113e-01,\n",
      "         9.04124154e-01,  8.23794861e-01,  7.82653385e-01,\n",
      "         9.29082328e-01,  2.73827502e-01,  8.60655569e-01,\n",
      "         9.23480090e-01,  4.79561491e-03,  6.75011634e-01,\n",
      "         4.43057760e-01,  5.72921125e-01,  3.13004159e-01,\n",
      "         5.26138698e-01,  8.98486291e-01,  2.79945181e-01,\n",
      "         7.42487537e-02, -8.62672330e-01, -5.35095857e-02,\n",
      "        -9.35615352e-01, -5.46184237e-01, -8.34889452e-01,\n",
      "        -4.09205713e-01, -7.81817759e-01, -2.31659957e-01,\n",
      "        -8.49561568e-01, -6.51681243e-02, -8.83483289e-01,\n",
      "        -1.09517504e-01, -6.40514411e-02, -9.30218095e-01,\n",
      "        -5.09191026e-01, -2.44936885e-01, -9.51356577e-01,\n",
      "        -7.91969156e-01, -1.92870760e-01, -5.22659290e-01,\n",
      "        -8.89479444e-01, -1.73216567e-01, -8.27493336e-01,\n",
      "        -8.48607121e-01, -4.56606354e-01, -2.74147747e-01,\n",
      "        -5.68360373e-01, -9.45619951e-01, -9.05069543e-01,\n",
      "        -9.33327142e-01, -8.74586781e-01, -1.08535613e-01,\n",
      "        -4.62931295e-01, -4.18071736e-01, -4.66537749e-01,\n",
      "        -5.43505148e-01, -8.74126852e-01, -5.76004756e-01,\n",
      "        -5.93452200e-01, -7.32140625e-01, -2.54037936e-01,\n",
      "        -4.50854223e-02, -5.53069035e-01, -1.99615749e-01,\n",
      "        -1.77940088e-01, -6.05992417e-01, -1.38419756e-01,\n",
      "        -1.79725417e-01, -6.92726977e-01, -5.04539599e-01,\n",
      "        -8.83624541e-01, -2.44521398e-01, -3.60315807e-01,\n",
      "        -8.08266788e-02, -2.10010984e-01, -6.05744268e-02,\n",
      "        -9.71813961e-02, -9.32470224e-01, -8.86208957e-02,\n",
      "        -9.58679406e-02, -5.90561399e-01, -6.51972760e-01,\n",
      "        -4.08631619e-01, -2.89412441e-01, -8.62377418e-01,\n",
      "        -9.42768214e-01, -6.90181387e-01, -6.23557589e-01,\n",
      "        -8.89524566e-01, -9.09220584e-01, -9.49419850e-01,\n",
      "        -8.85728959e-01, -2.32914787e-01, -5.22561702e-01,\n",
      "        -8.77379904e-01, -8.27240348e-01, -6.20535538e-01,\n",
      "        -2.13068857e-01, -8.67584501e-01, -3.88164843e-01,\n",
      "        -9.12289152e-01, -7.51256888e-01, -9.28624106e-01,\n",
      "        -9.52441260e-01, -9.48161203e-01, -9.32457813e-01,\n",
      "        -9.46115345e-01, -7.72941406e-01, -5.60421310e-01,\n",
      "        -9.45846765e-01, -9.38276018e-01, -6.48390320e-01,\n",
      "        -2.25108175e-01, -1.22473235e-01, -8.63132073e-01,\n",
      "        -1.94926033e-02, -9.45501711e-01, -1.98038724e-01,\n",
      "        -9.48397936e-01, -8.87434126e-01, -3.26106285e-01,\n",
      "        -9.43754845e-01, -9.06397562e-01, -8.69996279e-01,\n",
      "        -7.28008511e-01, -9.35008960e-01, -8.55790507e-01,\n",
      "        -3.15085259e-01, -5.93558574e-01, -1.13483005e-01,\n",
      "        -2.35112984e-01, -9.03314599e-01, -2.99613109e-01,\n",
      "        -9.49047523e-01, -7.97932783e-01, -7.71423543e-01,\n",
      "        -9.33038161e-01, -1.99787667e-01, -8.60161917e-01,\n",
      "        -9.37897946e-01, -8.97040442e-01, -5.71761687e-01,\n",
      "        -7.43498310e-01, -7.91363696e-01, -6.67127389e-01,\n",
      "        -6.11629980e-01, -2.80296076e-01, -7.75416022e-01,\n",
      "        -9.48254510e-01, -9.32604575e-01, -9.04906019e-01,\n",
      "        -9.51930201e-01, -9.42515377e-01, -7.76660097e-01,\n",
      "        -1.73872085e-01, -8.61216758e-01, -5.06345057e-01,\n",
      "        -9.49528072e-01, -9.45149601e-01, -5.63075651e-01,\n",
      "        -2.29606377e-01, -8.06554070e-01, -3.99909086e-01,\n",
      "        -8.54733890e-01, -6.24971430e-01, -9.25100638e-01,\n",
      "        -4.32143143e-01, -1.37307312e-01, -9.20340832e-01,\n",
      "        -2.39850022e-01, -8.23863281e-01, -1.92872297e-01,\n",
      "        -9.29442505e-01, -9.11456738e-01, -9.17534154e-01,\n",
      "        -9.08784658e-01, -8.85817254e-01, -9.34194856e-01,\n",
      "        -4.89779233e-01, -4.08205564e-01, -9.73333319e-02,\n",
      "        -8.81623305e-01, -2.43893344e-01, -1.85561165e-01,\n",
      "        -3.55129689e-01, -2.01065007e-01, -7.28532361e-01,\n",
      "        -4.90174758e-01, -5.94830369e-01, -8.83579604e-01,\n",
      "        -3.19440766e-01, -4.13911194e-01, -3.80089581e-01,\n",
      "        -8.93854499e-01, -3.81447037e-01, -6.64630300e-01,\n",
      "        -7.99508291e-01, -3.05045577e-01, -8.18937472e-01,\n",
      "        -8.61226222e-01, -5.36638836e-01, -9.44013543e-01,\n",
      "        -9.52156802e-01, -3.55038420e-01, -9.46105951e-01,\n",
      "        -6.70567725e-01, -4.45772797e-01, -6.36509730e-01,\n",
      "        -2.15622004e-01, -8.51805339e-01, -7.32875448e-01,\n",
      "        -3.40809989e-01, -6.91300483e-01, -3.72293214e-01,\n",
      "        -8.67470111e-01, -4.99363159e-02, -7.76855482e-01,\n",
      "        -3.66993587e-01, -7.82959258e-01, -6.40899972e-02,\n",
      "        -7.57925264e-01, -3.14351761e-01, -9.12110354e-01,\n",
      "        -1.35149365e-01, -9.51578438e-01, -2.04479051e-01,\n",
      "        -4.76483845e-01, -7.20045122e-01, -8.62057976e-01,\n",
      "        -2.02473751e-01, -6.00371680e-01, -7.93416785e-01,\n",
      "        -9.30007894e-01, -6.05296321e-01, -2.37325343e-01,\n",
      "        -9.51747819e-01, -9.14845395e-01, -6.91257464e-01,\n",
      "        -8.78149047e-01, -4.16195556e-01, -2.37224511e-02,\n",
      "        -7.68522077e-01, -5.07261425e-01, -4.23259657e-01,\n",
      "        -9.43077039e-01, -7.26126140e-01, -8.94630919e-01,\n",
      "        -9.21683590e-01, -5.91495991e-01, -5.76984658e-01,\n",
      "        -8.70421812e-01, -8.36495192e-01, -8.36908816e-01,\n",
      "        -1.36942221e-01, -9.46844091e-01, -3.48460163e-01,\n",
      "        -1.05425429e-01, -9.16472339e-01, -4.29109186e-01,\n",
      "        -4.99765110e-01, -1.40454376e-01, -9.49199192e-01,\n",
      "        -7.38391147e-01, -7.93838194e-01, -8.45391936e-01,\n",
      "        -7.26424523e-01, -9.37664986e-01, -9.33897137e-01,\n",
      "        -8.22073981e-01, -7.61693896e-01,  6.61916539e-01,\n",
      "         3.67637435e-01,  8.53265064e-01,  9.43791097e-01,\n",
      "         2.23916491e-01,  7.95438568e-01,  9.11649872e-01,\n",
      "         6.22842401e-01,  9.46256842e-01,  4.15919202e-01,\n",
      "         9.10371663e-01,  2.72942939e-01,  8.51301970e-01,\n",
      "         3.75038329e-01,  9.45336633e-01,  8.03405721e-01,\n",
      "         9.42428355e-01,  8.20301455e-01,  4.84100649e-01,\n",
      "         8.53605555e-01,  9.32874748e-01,  8.29675480e-01,\n",
      "         8.74661910e-01,  4.01955882e-01,  7.37958369e-01,\n",
      "         4.34966195e-01,  5.92229822e-01,  5.09324388e-01,\n",
      "         5.41819943e-01,  8.46277155e-01,  3.57406668e-01,\n",
      "         8.11207653e-01,  3.46283425e-02,  2.30115151e-01,\n",
      "         8.89274923e-01,  6.29610915e-01,  9.45826438e-01,\n",
      "         4.37176979e-01,  9.44620664e-01,  5.66421431e-02,\n",
      "         1.45211208e-01,  9.43544164e-01,  6.96624107e-01,\n",
      "         7.01191899e-01,  1.85234229e-02,  9.15598919e-01,\n",
      "         8.27552731e-01,  9.46040469e-01,  7.34623407e-01,\n",
      "         9.29115208e-01,  1.41775055e-01,  5.14958581e-01,\n",
      "         9.40233194e-01,  5.20438120e-01,  7.65963466e-01,\n",
      "         7.61079977e-01,  9.34284441e-01, -2.09987139e-02,\n",
      "         2.41914159e-01,  9.45623724e-01,  8.13718697e-01,\n",
      "         6.82907768e-01,  9.41687477e-01,  5.87955299e-02,\n",
      "         6.29441504e-01,  6.28170674e-01,  4.26864775e-01,\n",
      "         6.79923509e-01,  4.38178858e-01,  9.01526760e-01,\n",
      "         9.45447387e-01,  6.92570481e-01,  9.29126286e-01,\n",
      "         8.07963539e-01,  4.19865363e-01,  1.71143433e-01,\n",
      "         9.41599006e-01,  5.00549907e-01,  7.69620092e-01,\n",
      "         3.40570275e-01,  7.91729621e-01,  9.45230019e-01,\n",
      "         5.77139241e-01,  8.13451419e-01,  5.01363901e-01,\n",
      "         1.39486902e-01,  7.60200840e-01,  9.38043626e-01,\n",
      "         9.13559326e-01,  4.42057542e-01,  3.78831590e-02,\n",
      "         7.60826009e-01,  2.85619098e-01,  3.88056884e-01,\n",
      "         1.24280602e-02,  9.15841336e-01,  9.39714653e-01,\n",
      "         9.46184560e-01,  1.76949628e-01,  5.77542180e-01,\n",
      "         9.44472491e-01,  6.98469206e-01,  2.30048420e-02,\n",
      "         2.96742494e-01,  9.14677722e-01,  8.94437618e-01,\n",
      "         9.44055728e-01,  3.38584492e-02,  7.42187291e-01,\n",
      "         7.71255521e-01,  4.29426374e-01,  9.45131941e-01,\n",
      "         9.44318611e-01, -3.51011860e-02,  1.32470254e-01,\n",
      "         7.57118043e-01,  9.29839132e-01,  9.46050490e-01,\n",
      "         2.56864519e-01,  2.61416027e-01,  9.45397413e-01,\n",
      "         7.93342126e-01,  9.09132994e-01,  9.40321934e-01,\n",
      "         9.06756050e-01,  3.23059344e-01,  6.52291227e-01,\n",
      "         3.29490136e-01,  2.01023930e-01,  4.90542699e-01,\n",
      "         7.10230461e-01,  9.00074588e-01,  9.44801980e-01,\n",
      "         4.30675647e-01,  3.18321785e-01,  8.85069289e-01,\n",
      "         9.45219038e-01,  4.95519896e-01,  8.79847587e-01,\n",
      "         6.69615672e-01,  9.45573719e-01,  9.45794718e-01,\n",
      "         7.23416785e-01,  9.41567727e-01,  3.18571338e-01,\n",
      "         4.65640638e-01,  5.12933225e-01,  4.51094577e-01,\n",
      "         3.30721509e-01,  4.66745088e-01,  9.15607759e-01,\n",
      "         8.65440666e-01,  8.68990181e-01,  9.44126589e-01,\n",
      "         6.99025826e-01,  1.26106058e-01,  7.93252913e-01,\n",
      "         8.23992804e-02,  3.29200714e-01,  6.83130630e-01,\n",
      "         5.39246619e-01,  6.60559846e-02,  9.37328206e-01,\n",
      "         9.46020017e-01,  9.43219427e-01,  4.98720136e-02,\n",
      "         3.13437779e-01,  9.06362192e-01,  2.84166288e-01,\n",
      "         9.01118263e-01,  9.43617665e-01,  7.11379189e-01,\n",
      "         4.02721202e-01,  7.94534572e-01,  9.43201068e-01,\n",
      "         2.15856862e-01,  9.39310719e-01,  4.12568956e-01,\n",
      "         6.26932613e-01,  8.54618214e-01,  6.11482975e-01,\n",
      "         7.04500319e-01,  7.53032595e-01,  7.60042893e-01,\n",
      "         7.74580236e-01,  6.52110611e-01,  1.12924741e-01,\n",
      "         2.33041232e-01,  9.40834748e-01, -1.45379196e-02,\n",
      "         7.88968374e-01,  2.30384691e-01,  6.33571109e-01,\n",
      "         6.63851598e-01,  9.45347456e-01,  9.36184910e-01,\n",
      "         9.33663996e-01,  7.92001729e-01,  4.83284070e-01,\n",
      "         7.19103174e-01,  5.63304030e-01,  3.14662239e-02,\n",
      "         2.41540067e-01,  9.37536850e-01,  3.04182048e-01,\n",
      "         7.60251461e-01,  9.12093977e-01,  7.96714060e-01,\n",
      "         7.46651481e-01,  5.30478324e-01, -4.61408067e-02,\n",
      "         7.95217025e-02,  9.05051804e-01,  2.23600311e-01,\n",
      "         5.01911147e-02,  3.86593044e-01,  9.45448339e-01,\n",
      "        -4.63224863e-02,  2.84413995e-01,  9.45222226e-01,\n",
      "         3.65276048e-01,  9.39410104e-01,  9.22418496e-01,\n",
      "         5.25451668e-01,  7.57315710e-01,  9.43997210e-01,\n",
      "         7.85528698e-01,  2.96294565e-01,  4.36804878e-02,\n",
      "         7.07528272e-01,  2.01108413e-01,  3.45674831e-01,\n",
      "         6.86547936e-01,  8.81137018e-01,  3.03914353e-01,\n",
      "         8.78407739e-01,  7.31647464e-01,  8.84284931e-01,\n",
      "         9.44241691e-01,  8.08767787e-01,  9.91697287e-02,\n",
      "         9.15287537e-01,  1.18357339e-01, -2.21198746e-02,\n",
      "         9.37815910e-01,  9.21734113e-01,  4.70181315e-01,\n",
      "         5.52072845e-01,  9.43104794e-01,  7.27190058e-01,\n",
      "        -6.28908377e-01, -7.03966059e-01, -8.57519765e-01,\n",
      "        -3.31553207e-01, -8.84636095e-01, -7.16367524e-01,\n",
      "        -9.29112979e-01, -8.28228539e-01, -7.88393739e-01,\n",
      "        -5.83849115e-01, -8.42963171e-01, -5.25203190e-01,\n",
      "        -2.29063233e-01, -9.28341246e-01, -8.59383382e-01,\n",
      "        -5.16266132e-01, -9.31313029e-01, -9.08389945e-01,\n",
      "        -4.52662708e-01, -8.21090303e-01, -6.47789588e-01,\n",
      "        -9.29706892e-01, -1.13907884e-01, -8.47086604e-01,\n",
      "        -7.27244140e-01, -6.89927966e-01, -9.24010236e-01,\n",
      "        -1.41405970e-01, -2.05717617e-01, -9.20387062e-01,\n",
      "        -4.49724394e-01, -4.89851724e-01, -7.21111431e-01,\n",
      "        -5.51805533e-01, -8.14881990e-01, -8.94379931e-01,\n",
      "        -4.23769182e-01, -7.26256056e-01, -6.76004466e-01,\n",
      "        -4.81577751e-01, -9.93902347e-02, -8.79999941e-01,\n",
      "        -2.71077236e-01, -8.68901144e-01, -6.97718647e-01,\n",
      "        -7.62991331e-01, -8.34451768e-01, -7.20773231e-01,\n",
      "        -2.11750466e-01, -3.35523200e-01, -8.41941230e-01,\n",
      "        -8.94613307e-01, -8.27702210e-01, -9.07866652e-01,\n",
      "        -6.38629278e-01, -8.74396846e-02, -7.85912603e-01,\n",
      "        -5.31150030e-01, -8.79524215e-01, -4.96444435e-01,\n",
      "        -7.04957671e-01, -1.52791728e-01, -6.64603959e-01,\n",
      "        -3.84149084e-01, -9.07529019e-01, -9.20704352e-01,\n",
      "        -7.57193587e-01, -4.64349213e-02, -1.51693971e-01,\n",
      "        -8.21258443e-01, -7.39391796e-01, -6.41883019e-01,\n",
      "        -9.14158051e-01, -2.22537726e-01, -7.77105712e-01,\n",
      "        -8.47522576e-01, -9.08348932e-01, -4.70276534e-01,\n",
      "        -7.83963980e-01, -3.84120916e-01, -6.60047681e-01,\n",
      "        -5.65573793e-01, -4.39978785e-01, -7.51577772e-01,\n",
      "        -5.41335381e-01, -7.15195754e-01, -4.87621716e-01,\n",
      "        -3.65893238e-01, -8.13097974e-01, -8.00710354e-01,\n",
      "        -8.65454685e-01, -8.64573371e-01, -4.94659676e-01,\n",
      "        -2.95715230e-01, -6.76048695e-01, -8.41979417e-01,\n",
      "        -8.48333092e-01, -8.67474479e-01, -5.45451288e-01,\n",
      "        -7.37026359e-02, -9.02395349e-01, -6.52266955e-01,\n",
      "        -5.02916754e-01, -8.24760093e-01, -3.85523528e-01,\n",
      "        -4.88678035e-01, -9.01908748e-01, -4.77896308e-01,\n",
      "        -8.61629079e-01, -4.17697067e-01, -6.60544446e-01,\n",
      "        -4.08131340e-01, -5.98944408e-01, -8.63102530e-01,\n",
      "        -7.04785524e-01, -4.24030801e-01, -8.19020537e-01,\n",
      "        -6.42708427e-01, -4.79112093e-01, -4.65764456e-01,\n",
      "        -7.34032884e-01, -6.28587314e-01, -7.20790931e-01,\n",
      "        -5.90254200e-01, -2.32490398e-01, -2.45136505e-01,\n",
      "        -8.17553432e-01, -6.27372528e-01, -3.19613989e-01,\n",
      "        -7.17990567e-01, -6.27772153e-01, -7.57397329e-01,\n",
      "        -6.60543934e-01, -5.47953821e-01, -5.11792160e-01,\n",
      "        -3.16236537e-01, -8.94617743e-01, -6.68155270e-01,\n",
      "        -7.89646932e-01, -9.21194442e-01, -6.40315274e-01,\n",
      "        -7.69303547e-01, -6.47135480e-01, -8.59554326e-02,\n",
      "        -8.90905222e-01, -5.15046291e-01, -7.88210704e-01,\n",
      "        -1.34790577e-01, -7.58266362e-01, -8.25356952e-01,\n",
      "        -6.30807413e-01, -2.95867410e-01, -8.50436795e-01,\n",
      "        -7.10525809e-01, -5.88507201e-01, -7.30956399e-01,\n",
      "        -8.20695601e-01, -8.32864454e-01, -5.82053700e-01,\n",
      "        -8.65269784e-01, -2.95030548e-01, -4.62785631e-01,\n",
      "        -4.69462637e-01, -7.03639997e-01, -7.54658243e-01,\n",
      "        -7.58975408e-01, -1.64606569e-01, -6.49249311e-01,\n",
      "        -9.24142715e-01, -3.42194601e-01, -9.05893538e-01,\n",
      "        -9.09758038e-01, -3.35268165e-01, -9.11941463e-01,\n",
      "        -9.29821279e-01, -8.52000538e-01, -6.81883874e-01,\n",
      "        -8.62414321e-01, -8.95260106e-01, -9.29305769e-01,\n",
      "        -2.84323674e-01, -8.08133912e-01, -5.65150470e-01,\n",
      "        -8.61996500e-01, -5.42299475e-01, -5.38050049e-01,\n",
      "        -9.32162653e-01, -3.71010399e-01, -4.37310499e-01,\n",
      "        -7.84234475e-01, -2.25252620e-01, -6.70892347e-01,\n",
      "        -7.17260744e-01, -6.90088069e-01, -2.99289509e-01,\n",
      "        -4.70510001e-01, -9.00712610e-01, -8.75862057e-01,\n",
      "        -8.88301977e-01, -5.10291109e-01, -8.95907465e-02,\n",
      "        -5.93353717e-01, -9.29651688e-01, -7.38076278e-01,\n",
      "        -8.68443534e-01, -3.40125480e-01, -5.80009703e-01,\n",
      "        -8.18837670e-01, -9.07609774e-01, -1.81993717e-01,\n",
      "        -7.73846710e-01, -8.94046852e-01, -6.89377279e-01,\n",
      "        -3.94602173e-01, -1.02170541e-01, -8.90335505e-01,\n",
      "        -2.12838013e-01, -8.81714030e-01, -8.60677285e-01,\n",
      "        -8.78325239e-01, -8.01238167e-01, -8.23640709e-01,\n",
      "        -8.97287569e-01, -6.59851173e-01, -3.61884449e-01,\n",
      "        -4.73765642e-01, -6.16863323e-01, -8.45652974e-01,\n",
      "        -1.91888262e-01, -9.07969147e-01, -1.79219133e-01,\n",
      "        -6.37220262e-01, -7.93687638e-01, -7.02349824e-01,\n",
      "        -5.26285235e-01, -4.60851571e-01, -6.28203566e-01,\n",
      "        -4.88964271e-01, -2.89883695e-01, -4.82425369e-01,\n",
      "        -6.54673360e-01, -7.89963292e-01, -8.51343269e-01,\n",
      "        -7.76310965e-01, -7.98580477e-01, -2.83006913e-01,\n",
      "        -6.13942357e-01, -8.02151088e-01, -6.93514228e-01,\n",
      "        -5.53036735e-01]])\n"
     ]
    }
   ],
   "source": [
    "pprint(pred_train)\n",
    "# pprint(train_x)"
   ]
  },
  {
   "cell_type": "code",
   "execution_count": 41,
   "metadata": {},
   "outputs": [
    {
     "data": {
      "text/plain": [
       "<matplotlib.collections.PathCollection at 0x13b0bdd3f10>"
      ]
     },
     "execution_count": 41,
     "metadata": {},
     "output_type": "execute_result"
    },
    {
     "data": {
      "image/png": "[encoded data removed]",
      "text/plain": [
       "<Figure size 432x288 with 1 Axes>"
      ]
     },
     "metadata": {
      "needs_background": "light"
     },
     "output_type": "display_data"
    }
   ],
   "source": [
    "plt.scatter(train_x[0],pred_train[0])"
   ]
  },
  {
   "cell_type": "code",
   "execution_count": 42,
   "metadata": {},
   "outputs": [
    {
     "data": {
      "text/plain": [
       "<matplotlib.collections.PathCollection at 0x13b0bdab700>"
      ]
     },
     "execution_count": 42,
     "metadata": {},
     "output_type": "execute_result"
    },
    {
     "data": {
      "image/png": "[encoded data removed]",
      "text/plain": [
       "<Figure size 432x288 with 1 Axes>"
      ]
     },
     "metadata": {
      "needs_background": "light"
     },
     "output_type": "display_data"
    }
   ],
   "source": [
    "plt.scatter(train_x[0],train_y[0])"
   ]
  },
  {
   "cell_type": "code",
   "execution_count": 43,
   "metadata": {},
   "outputs": [],
   "source": [
    "test_x=np.array(test).reshape(1,300)\n",
    "pred_test = predictvals(test_x, parameters,activation='tanh')"
   ]
  },
  {
   "cell_type": "code",
   "execution_count": 44,
   "metadata": {},
   "outputs": [
    {
     "data": {
      "image/png": "[encoded data removed]",
      "text/plain": [
       "<Figure size 432x288 with 1 Axes>"
      ]
     },
     "metadata": {
      "needs_background": "light"
     },
     "output_type": "display_data"
    }
   ],
   "source": [
    "plt.scatter(train_x[0],train_y[0],color='blue')\n",
    "plt.scatter(test_x[0],pred_test[0],color='red')\n",
    "plt.legend(['train','test'])\n",
    "plt.show()"
   ]
  },
  {
   "cell_type": "code",
   "execution_count": 35,
   "metadata": {},
   "outputs": [
    {
     "name": "stdout",
     "output_type": "stream",
     "text": [
      "141.95450152979535\n"
     ]
    }
   ],
   "source": [
    "mape=predictmape(train_x,train_y,parameters,lambd=0.1,activation='tanh')\n",
    "print(mape)"
   ]
  },
  {
   "cell_type": "code",
   "execution_count": 14,
   "metadata": {},
   "outputs": [],
   "source": [
    "valid_err=predicterr(train_x,train_y,parameters,lambd=0.1,activation='tanh',regularisation='L2',cost_func='mse')"
   ]
  },
  {
   "cell_type": "code",
   "execution_count": 15,
   "metadata": {},
   "outputs": [
    {
     "name": "stdout",
     "output_type": "stream",
     "text": [
      "0.03081419717451911\n"
     ]
    }
   ],
   "source": [
    "print(valid_err)"
   ]
  },
  {
   "cell_type": "code",
   "execution_count": 16,
   "metadata": {},
   "outputs": [
    {
     "name": "stdout",
     "output_type": "stream",
     "text": [
      "6\n"
     ]
    }
   ],
   "source": [
    "print(len(parameters))"
   ]
  },
  {
   "cell_type": "code",
   "execution_count": null,
   "metadata": {},
   "outputs": [],
   "source": []
  },
  {
   "cell_type": "code",
   "execution_count": null,
   "metadata": {},
   "outputs": [],
   "source": []
  },
  {
   "cell_type": "code",
   "execution_count": null,
   "metadata": {},
   "outputs": [],
   "source": []
  },
  {
   "cell_type": "code",
   "execution_count": null,
   "metadata": {},
   "outputs": [],
   "source": []
  }
 ],
 "metadata": {
  "kernelspec": {
   "display_name": "Python 3",
   "language": "python",
   "name": "python3"
  },
  "language_info": {
   "codemirror_mode": {
    "name": "ipython",
    "version": 3
   },
   "file_extension": ".py",
   "mimetype": "text/x-python",
   "name": "python",
   "nbconvert_exporter": "python",
   "pygments_lexer": "ipython3",
   "version": "3.8.1"
  }
 },
 "nbformat": 4,
 "nbformat_minor": 4
}
